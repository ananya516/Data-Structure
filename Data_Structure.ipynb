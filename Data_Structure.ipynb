{
  "nbformat": 4,
  "nbformat_minor": 0,
  "metadata": {
    "colab": {
      "provenance": []
    },
    "kernelspec": {
      "name": "python3",
      "display_name": "Python 3"
    },
    "language_info": {
      "name": "python"
    }
  },
  "cells": [
    {
      "cell_type": "markdown",
      "source": [
        "1) What are data structures, and why are they important\n",
        "\n",
        "- Data structures are ways of organizing and storing data efficiently for easy access and modification.\n",
        "\n",
        "- Importance:\n",
        "\n",
        "       Efficiency: Faster data access and modification.\n",
        "\n",
        "       Optimized Algorithms: Affect the speed and complexity of algorithms.\n",
        "\n",
        "       Memory Management: Some structures are more memory-efficient.\n",
        "\n",
        "       Scalability: Essential for handling large datasets.\n",
        "\n",
        "       Real-World Applications: Used in databases, networking, gaming, etc.\n",
        "\n",
        "\n",
        "2) Explain the difference between mutable and immutable data types with examples.\n",
        "- Mutable data types can be changed after they are created.\n",
        "\n",
        "  Example: Lists, Dictionaries, Sets.\n",
        "           \n",
        "- Immutable data types cannot be changed once created.\n",
        "\n",
        "  Example: Tuples, Strings, Integers.\n",
        "\n",
        "3) What are the main differences between lists and tuples in Python?\n",
        "\n",
        "- Main Differences between Lists and Tuples:\n",
        "Mutability:\n",
        "\n",
        "      List: Mutable (can be modified).\n",
        "\n",
        "      Tuple: Immutable (cannot be modified).\n",
        "\n",
        "- Syntax:\n",
        "\n",
        "      List: Defined with square brackets [].\n",
        "\n",
        "      Tuple: Defined with parentheses ().\n",
        "\n",
        "- Performance:\n",
        "\n",
        "      List: Slower due to mutability.\n",
        "\n",
        "      Tuple: Faster as it is immutable.\n",
        "\n",
        "- Use Case:\n",
        "\n",
        "      List: Suitable for collections of items that may change.\n",
        "\n",
        "      Tuple: Suitable for fixed collections of items.\n",
        "\n",
        "4) Describe how dictionaries store data\n",
        "\n",
        "- Dictionaries in Python store data as key-value pairs. Each key is unique, and it maps to a specific value. The data is stored in an unordered collection, and keys are used to access their corresponding values efficiently.\n",
        "\n",
        "5) Why might you use a set instead of a list in Python?\n",
        "\n",
        "- Use a set instead of a list when you need:\n",
        "\n",
        "      Unique items (no duplicates).\n",
        "\n",
        "      Faster lookups (check if item exists quickly).\n",
        "\n",
        "      Set operations (like union and intersection).\n",
        "\n",
        "      No order (order doesn't matter).\n",
        "\n",
        "6) What is a string in Python, and how is it different from a list\n",
        "\n",
        "- A string in Python is a sequence of characters enclosed in quotes (' or \").\n",
        "\n",
        "     Differences:\n",
        "\n",
        "      String: Immutable (cannot be changed after creation).\n",
        "\n",
        "      List: Mutable (can be changed).\n",
        "\n",
        "      String: Represents text.\n",
        "\n",
        "      List: Can hold different data types (integers, strings, etc.).\n",
        "\n",
        "      String: Supports string-specific operations (concatenation, slicing, etc.).\n",
        "\n",
        "      List: Supports list-specific operations (adding/removing elements, modifying items).\n",
        "\n",
        "  7) How do tuples ensure data integrity in Python?\n",
        "\n",
        "  - Tuples ensure data integrity in Python by being immutable—once created, their data cannot be changed. This prevents accidental modifications and keeps the data safe.\n",
        "\n",
        "  8) What is a hash table, and how does it relate to dictionaries in Python\n",
        "\n",
        "  - A hash table is a data structure that stores data in key-value pairs, using a hash function to map keys to specific indices in an array for fast access.\n",
        "\n",
        " - Relation to Dictionaries:\n",
        "\n",
        "   Dictionaries in Python are implemented using hash tables. The keys are hashed to quickly find and retrieve the corresponding values.\n",
        "\n",
        "9) Can lists contain different data types in Python?\n",
        "\n",
        "  - Yes, lists in Python can contain different data types. A list can hold integers, strings, floats, or even other lists.\n",
        "\n",
        "10) Explain why strings are immutable in Python\n",
        "\n",
        "- Strings are immutable in Python to ensure data integrity and improve performance.\n",
        "      Efficiency: Immutable objects can be shared safely between multiple parts of a program without the risk of changes affecting other parts.\n",
        "\n",
        "      Security: It prevents accidental modification of string data.\n",
        "\n",
        "      Hashability: Strings can be used as dictionary keys because their values do not change\n",
        "\n",
        "11) What advantages do dictionaries offer over lists for certain tasks?\n",
        "\n",
        "- Dictionaries offer several advantages over lists for certain tasks:\n",
        "\n",
        "      Faster Lookups: Accessing values by key in a dictionary is much faster (O(1)) compared to searching through a list (O(n)).\n",
        "\n",
        "      Key-Value Pairing: Dictionaries store data as key-value pairs, making it easy to associate related data (e.g., \"name\": \"Alice\").\n",
        "\n",
        "      No Duplicates: Keys in a dictionary must be unique, preventing duplicates, while lists allow duplicate items.\n",
        "\n",
        "      Efficient Updates: It's faster to update values using keys rather than searching and modifying values in a list.\n",
        "\n",
        "12) Describe a scenario where using a tuple would be preferable over a list\n",
        "\n",
        "   - A tuple is preferable over a list in situations where the data should not change. For example, when storing constant values that should remain unchanged, such as coordinates, configuration settings, or fixed values.\n",
        "\n",
        " - Scenario:\n",
        "\n",
        "           If you are storing coordinates for a point (x, y, z), you wouldn't want the values to change, so a tuple would be ideal.\n",
        "           Example: coordinates = (10, 20, 30)\n",
        "\n",
        "13) How do sets handle duplicate values in Python?\n",
        "\n",
        "- Sets in Python automatically remove duplicate values. When you add an item to a set, it only keeps unique values, ignoring any duplicates.\n",
        "\n",
        "14) How does the “in” keyword work differently for lists and dictionaries?\n",
        " - The in keyword works differently for lists and dictionaries:\n",
        "\n",
        "  - In Lists: It checks if an element exists in the list.\n",
        "\n",
        "         Example:\n",
        "         my_list = [1, 2, 3]\n",
        "         print(2 in my_list)  # Output: True\n",
        "         In Dictionaries: It checks if a key exists in the dictionary, not the value.\n",
        "\n",
        "         Example:\n",
        "         my_dict = {\"name\": \"Alice\", \"age\": 25}\n",
        "         print(\"name\" in my_dict)  # Output: True\n",
        "         print(25 in my_dict)\n",
        "\n",
        "15) What is a nested dictionary, and give an example of its use case?\n",
        "\n",
        "- A nested dictionary is a dictionary where the values are themselves dictionaries. It allows you to represent complex data structures like hierarchical relationships.\n",
        "\n",
        "  - Use Case:\n",
        "A nested dictionary is useful for representing data with multiple layers, such as information about multiple people, where each person has their own set of attributes (e.g., name, age, address).\n",
        "\n",
        "         Example:\n",
        "         people = {\n",
        "         \"Alice\": {\"age\": 25, \"city\": \"New York\"},\n",
        "         \"Bob\": {\"age\": 30, \"city\": \"Los Angeles\"}\n",
        "          }\n",
        "\n",
        "         # Accessing nested data\n",
        "         print(people[\"Alice\"][\"age\"])\n",
        "\n",
        "16) Can you modify the elements of a tuple? Explain why or why not\n",
        "\n",
        "- No, you cannot modify the elements of a tuple in Python because tuples are immutable. Once a tuple is created, its elements cannot be changed, added, or removed.\n",
        "\n",
        "  - Reason:\n",
        "Immutability ensures that the data inside the tuple remains constant throughout the program, providing data integrity and making them suitable for use as keys in dictionaries.\n",
        "\n",
        "17) Describe the time complexity of accessing elements in a dictionary.\n",
        "\n",
        "- The time complexity of accessing elements in a dictionary in Python is O(1) on average, meaning it takes constant time to retrieve a value based on its key.\n",
        "\n",
        "18) In what situations are lists preferred over dictionaries?\n",
        "\n",
        "- Lists are preferred over dictionaries in situations where:\n",
        "\n",
        " - Order Matters: Lists maintain the order of elements, so when the sequence of items is important, a list is ideal.\n",
        "\n",
        "        Example: Storing a series of tasks in a specific order.\n",
        "\n",
        " - Indexed Access: If you need to access elements by their position (index), lists are better.\n",
        "\n",
        "        Example: Retrieving the 3rd item in a list of numbers.\n",
        "\n",
        "  - Homogeneous Data: When you have a collection of similar items (e.g., all numbers or strings) and don't need key-value pairing, lists are simpler.\n",
        "\n",
        "        Example: A list of temperatures for the week.\n",
        "\n",
        "19) Why are dictionaries considered unordered, and how does that affect data retrieval\n",
        "\n",
        "- Dictionaries in Python were considered unordered until Python 3.7, where they started maintaining insertion order. However, even in versions 3.7 and later, dictionaries are still conceptually unordered in the sense that you retrieve values based on keys, not the position of items.\n",
        "\n",
        "20 ) Explain the difference between a list and a dictionary in terms of data retrieval.\n",
        "\n",
        "- List: Access data by index (position).\n",
        "\n",
        "      Example: my_list[1]\n",
        "\n",
        "      Time Complexity: O(1)\n",
        "\n",
        "- Dictionary: Access data by key (unique identifier).\n",
        "\n",
        "      Example: my_dict[\"name\"]\n",
        "\n",
        "      Time Complexity: O(1) on average"
      ],
      "metadata": {
        "id": "KuhxoOEWiXz3"
      }
    },
    {
      "cell_type": "code",
      "execution_count": null,
      "metadata": {
        "id": "_6PZVsP1filp",
        "colab": {
          "base_uri": "https://localhost:8080/"
        },
        "outputId": "3658d0c0-0b50-45b0-8bbc-35a3a4791b56"
      },
      "outputs": [
        {
          "output_type": "stream",
          "name": "stdout",
          "text": [
            "Ananya\n"
          ]
        }
      ],
      "source": [
        "#Write a code to create a string with your name and print it\n",
        "\n",
        "name = \"Ananya\"\n",
        "print(name)"
      ]
    },
    {
      "cell_type": "code",
      "source": [
        "#Write a code to find the length of the string \"Hello World\"\n",
        "\n",
        "string = \"Hello World\"\n",
        "length = len(string)\n",
        "print(length)"
      ],
      "metadata": {
        "colab": {
          "base_uri": "https://localhost:8080/"
        },
        "id": "pT3gNZsw7-AS",
        "outputId": "e3c79e74-b263-44b9-da49-8d3d45261445"
      },
      "execution_count": null,
      "outputs": [
        {
          "output_type": "stream",
          "name": "stdout",
          "text": [
            "11\n"
          ]
        }
      ]
    },
    {
      "cell_type": "code",
      "source": [
        "#Write a code to slice the first 3 characters from the string \"Python Programming\"\n",
        "\n",
        "string = \"Python Programming\"\n",
        "sliced_string = string[:3]\n",
        "print(sliced_string)"
      ],
      "metadata": {
        "colab": {
          "base_uri": "https://localhost:8080/"
        },
        "id": "p1zCh-g58JhP",
        "outputId": "870dda2a-72c4-4675-ce46-ca7ba6ff575f"
      },
      "execution_count": null,
      "outputs": [
        {
          "output_type": "stream",
          "name": "stdout",
          "text": [
            "Pyt\n"
          ]
        }
      ]
    },
    {
      "cell_type": "code",
      "source": [
        "#Write a code to convert the string \"hello\" to uppercase\n",
        "string = \"hello\"\n",
        "uppercase_string = string.upper()\n",
        "print(uppercase_string)"
      ],
      "metadata": {
        "colab": {
          "base_uri": "https://localhost:8080/"
        },
        "id": "CYuTKcgq8TLe",
        "outputId": "231d6559-7182-4155-9729-eebb59c057b1"
      },
      "execution_count": null,
      "outputs": [
        {
          "output_type": "stream",
          "name": "stdout",
          "text": [
            "HELLO\n"
          ]
        }
      ]
    },
    {
      "cell_type": "code",
      "source": [
        "#Write a code to replace the word \"apple\" with \"orange\" in the string \"I like apple\"\n",
        "string = \"I like apple\"\n",
        "new_string = string.replace(\"apple\", \"orange\")\n",
        "print(new_string)"
      ],
      "metadata": {
        "id": "ReReKIXr8nhw",
        "outputId": "b603b1b0-690f-4fe4-f146-c1090cd2a396",
        "colab": {
          "base_uri": "https://localhost:8080/"
        }
      },
      "execution_count": null,
      "outputs": [
        {
          "output_type": "stream",
          "name": "stdout",
          "text": [
            "I like orange\n"
          ]
        }
      ]
    },
    {
      "cell_type": "code",
      "source": [
        "#Write a code to create a list with numbers 1 to 5 and print it\n",
        "numbers = [1, 2, 3, 4, 5]\n",
        "\n",
        "# Printing the list\n",
        "print(numbers)"
      ],
      "metadata": {
        "colab": {
          "base_uri": "https://localhost:8080/"
        },
        "id": "fmePIAcV9cpO",
        "outputId": "8184cc8b-40d0-467d-bc64-f65234f9e5bc"
      },
      "execution_count": 1,
      "outputs": [
        {
          "output_type": "stream",
          "name": "stdout",
          "text": [
            "[1, 2, 3, 4, 5]\n"
          ]
        }
      ]
    },
    {
      "cell_type": "code",
      "source": [
        "#Write a code to append the number 10 to the list [1, 2, 3, 4]\n",
        "numbers = [1, 2, 3, 4]\n",
        "\n",
        "# Appending the number 10 to the list\n",
        "numbers.append(10)\n",
        "\n",
        "# Printing the updated list\n",
        "print(numbers)"
      ],
      "metadata": {
        "colab": {
          "base_uri": "https://localhost:8080/"
        },
        "id": "bCr97nhe9q07",
        "outputId": "b079c076-88e1-40ff-b40f-9acea1e384b7"
      },
      "execution_count": 2,
      "outputs": [
        {
          "output_type": "stream",
          "name": "stdout",
          "text": [
            "[1, 2, 3, 4, 10]\n"
          ]
        }
      ]
    },
    {
      "cell_type": "code",
      "source": [
        "#Write a code to remove the number 3 from the list [1, 2, 3, 4, 5]\n",
        "\n",
        "numbers = [1, 2, 3, 4, 5]\n",
        "\n",
        "# Removing the number 3 from the list\n",
        "numbers.remove(3)\n",
        "\n",
        "# Printing the updated list\n",
        "print(numbers)"
      ],
      "metadata": {
        "colab": {
          "base_uri": "https://localhost:8080/"
        },
        "id": "h3mN0eeB9vHW",
        "outputId": "6b150fde-2305-41e7-a48d-c1d6b6c0d2a0"
      },
      "execution_count": 3,
      "outputs": [
        {
          "output_type": "stream",
          "name": "stdout",
          "text": [
            "[1, 2, 4, 5]\n"
          ]
        }
      ]
    },
    {
      "cell_type": "code",
      "source": [
        "#Write a code to access the second element in the list ['a', 'b', 'c', 'd']\n",
        "\n",
        "# List of elements\n",
        "letters = ['a', 'b', 'c', 'd']\n",
        "\n",
        "# Accessing the second element (index 1)\n",
        "second_element = letters[1]\n",
        "\n",
        "# Printing the second element\n",
        "print(second_element)"
      ],
      "metadata": {
        "colab": {
          "base_uri": "https://localhost:8080/"
        },
        "id": "lpYG3tE0922U",
        "outputId": "7c86e851-ff87-4a46-af48-d3607a165aa9"
      },
      "execution_count": 4,
      "outputs": [
        {
          "output_type": "stream",
          "name": "stdout",
          "text": [
            "b\n"
          ]
        }
      ]
    },
    {
      "cell_type": "code",
      "source": [
        "#Write a code to reverse the list [10, 20, 30, 40, 50].\n",
        "\n",
        "# Original list\n",
        "numbers = [10, 20, 30, 40, 50]\n",
        "\n",
        "# Reversing the list\n",
        "reversed_numbers = numbers[::-1]\n",
        "\n",
        "# Printing the reversed list\n",
        "print(reversed_numbers)"
      ],
      "metadata": {
        "colab": {
          "base_uri": "https://localhost:8080/"
        },
        "id": "NSfCPXjV-EYW",
        "outputId": "ad1da2af-bf0a-4930-fe4d-d1ee8fcd3c90"
      },
      "execution_count": 5,
      "outputs": [
        {
          "output_type": "stream",
          "name": "stdout",
          "text": [
            "[50, 40, 30, 20, 10]\n"
          ]
        }
      ]
    },
    {
      "cell_type": "code",
      "source": [
        "#. Write a code to create a tuple with the elements 100, 200, 300 and print it.\n",
        "\n",
        "my_tuple = (100, 200, 300)\n",
        "\n",
        "# Printing the tuple\n",
        "print(my_tuple)"
      ],
      "metadata": {
        "colab": {
          "base_uri": "https://localhost:8080/"
        },
        "id": "L7hvG1_F-LRP",
        "outputId": "7d4565f4-5bbd-4ae5-cb51-9ee38f85e786"
      },
      "execution_count": 6,
      "outputs": [
        {
          "output_type": "stream",
          "name": "stdout",
          "text": [
            "(100, 200, 300)\n"
          ]
        }
      ]
    },
    {
      "cell_type": "code",
      "source": [
        "# Write a code to access the second-to-last element of the tuple ('red', 'green', 'blue', 'yellow').\n",
        "\n",
        "# Tuple of colors\n",
        "colors = ('red', 'green', 'blue', 'yellow')\n",
        "\n",
        "# Accessing the second-to-last element (index -2)\n",
        "second_to_last = colors[-2]\n",
        "\n",
        "# Printing the second-to-last element\n",
        "print(second_to_last)"
      ],
      "metadata": {
        "colab": {
          "base_uri": "https://localhost:8080/"
        },
        "id": "JABU85hZ-Sfr",
        "outputId": "5b8aefe0-0914-4627-e63f-120daa69af2e"
      },
      "execution_count": 7,
      "outputs": [
        {
          "output_type": "stream",
          "name": "stdout",
          "text": [
            "blue\n"
          ]
        }
      ]
    },
    {
      "cell_type": "code",
      "source": [
        "# Write a code to find the minimum number in the tuple (10, 20, 5, 15).\n",
        "\n",
        "numbers = (10, 20, 5, 15)\n",
        "\n",
        "# Finding the minimum number\n",
        "min_number = min(numbers)\n",
        "\n",
        "# Printing the minimum number\n",
        "print(min_number)"
      ],
      "metadata": {
        "colab": {
          "base_uri": "https://localhost:8080/"
        },
        "id": "APvJK7tU-ZgM",
        "outputId": "464f5a24-db51-48ed-9539-c0c19b770545"
      },
      "execution_count": 8,
      "outputs": [
        {
          "output_type": "stream",
          "name": "stdout",
          "text": [
            "5\n"
          ]
        }
      ]
    },
    {
      "cell_type": "code",
      "source": [
        "# Write a code to find the index of the element \"cat\" in the tuple ('dog', 'cat', 'rabbit').\n",
        "\n",
        "# Tuple of animals\n",
        "animals = ('dog', 'cat', 'rabbit')\n",
        "\n",
        "# Finding the index of the element \"cat\"\n",
        "index_of_cat = animals.index('cat')\n",
        "\n",
        "# Printing the index of \"cat\"\n",
        "print(index_of_cat)"
      ],
      "metadata": {
        "colab": {
          "base_uri": "https://localhost:8080/"
        },
        "id": "pHOpeko5-g8R",
        "outputId": "8074b8b1-7a09-43cf-becb-2727ed380a83"
      },
      "execution_count": 9,
      "outputs": [
        {
          "output_type": "stream",
          "name": "stdout",
          "text": [
            "1\n"
          ]
        }
      ]
    },
    {
      "cell_type": "code",
      "source": [
        "#Write a code to create a tuple containing three different fruits and check if \"kiwi\" is in it\n",
        "\n",
        "fruits = ('apple', 'banana', 'orange')\n",
        "\n",
        "# Checking if \"kiwi\" is in the tuple\n",
        "is_kiwi_present = 'kiwi' in fruits\n",
        "\n",
        "# Printing the result\n",
        "print(is_kiwi_present)"
      ],
      "metadata": {
        "colab": {
          "base_uri": "https://localhost:8080/"
        },
        "id": "zElq-aSS-6Ri",
        "outputId": "777deadf-57aa-4476-e8f1-2306206ddd0e"
      },
      "execution_count": 10,
      "outputs": [
        {
          "output_type": "stream",
          "name": "stdout",
          "text": [
            "False\n"
          ]
        }
      ]
    },
    {
      "cell_type": "code",
      "source": [
        "#. Write a code to create a set with the elements 'a', 'b', 'c' and print it.\n",
        "\n",
        "# Creating a set with elements 'a', 'b', and 'c'\n",
        "my_set = {'a', 'b', 'c'}\n",
        "\n",
        "# Printing the set\n",
        "print(my_set)"
      ],
      "metadata": {
        "colab": {
          "base_uri": "https://localhost:8080/"
        },
        "id": "U4EUOAof_Fa9",
        "outputId": "e8af0dca-a0e6-4463-841d-9a4aff3c3814"
      },
      "execution_count": 11,
      "outputs": [
        {
          "output_type": "stream",
          "name": "stdout",
          "text": [
            "{'c', 'a', 'b'}\n"
          ]
        }
      ]
    },
    {
      "cell_type": "code",
      "source": [
        "#Write a code to clear all elements from the set {1, 2, 3, 4, 5}.\n",
        "\n",
        "# Set with elements 1, 2, 3, 4, 5\n",
        "my_set = {1, 2, 3, 4, 5}\n",
        "\n",
        "# Clearing all elements from the set\n",
        "my_set.clear()\n",
        "\n",
        "# Printing the cleared set\n",
        "print(my_set)\n"
      ],
      "metadata": {
        "colab": {
          "base_uri": "https://localhost:8080/"
        },
        "id": "1aON9bxz_PDJ",
        "outputId": "63a74be8-4e6f-4012-ef5e-ed54db1afba9"
      },
      "execution_count": 12,
      "outputs": [
        {
          "output_type": "stream",
          "name": "stdout",
          "text": [
            "set()\n"
          ]
        }
      ]
    },
    {
      "cell_type": "code",
      "source": [
        "# Write a code to remove the element 4 from the set {1, 2, 3, 4}.\n",
        "\n",
        "# Set with elements 1, 2, 3, 4\n",
        "my_set = {1, 2, 3, 4}\n",
        "\n",
        "# Removing the element 4 from the set\n",
        "my_set.remove(4)\n",
        "\n",
        "# Printing the updated set\n",
        "print(my_set)"
      ],
      "metadata": {
        "colab": {
          "base_uri": "https://localhost:8080/"
        },
        "id": "ZjncWw6O_YJH",
        "outputId": "0b70ce9d-3c4c-4b15-c0a4-0537c0fd9b3c"
      },
      "execution_count": 13,
      "outputs": [
        {
          "output_type": "stream",
          "name": "stdout",
          "text": [
            "{1, 2, 3}\n"
          ]
        }
      ]
    },
    {
      "cell_type": "code",
      "source": [
        "# Write a code to find the union of two sets {1, 2, 3} and {3, 4, 5}.\n",
        "\n",
        "set1 = {1, 2, 3}\n",
        "set2 = {3, 4, 5}\n",
        "\n",
        "# Finding the union of the two sets\n",
        "union_set = set1.union(set2)\n",
        "\n",
        "# Printing the union of the sets\n",
        "print(union_set)"
      ],
      "metadata": {
        "colab": {
          "base_uri": "https://localhost:8080/"
        },
        "id": "4uwAMJ2r_kmX",
        "outputId": "596556eb-cbf7-4d0d-9f34-3013eb26be0a"
      },
      "execution_count": 14,
      "outputs": [
        {
          "output_type": "stream",
          "name": "stdout",
          "text": [
            "{1, 2, 3, 4, 5}\n"
          ]
        }
      ]
    },
    {
      "cell_type": "code",
      "source": [
        "# Write a code to find the intersection of two sets {1, 2, 3} and {2, 3, 4}.\n",
        "\n",
        "set1 = {1, 2, 3}\n",
        "set2 = {2, 3, 4}\n",
        "\n",
        "# Finding the intersection of the two sets\n",
        "intersection_set = set1.intersection(set2)\n",
        "\n",
        "# Printing the intersection of the sets\n",
        "print(intersection_set)"
      ],
      "metadata": {
        "colab": {
          "base_uri": "https://localhost:8080/"
        },
        "id": "UKY0YDhp_5dh",
        "outputId": "3dc8eff3-25a3-4772-ce23-36117c416425"
      },
      "execution_count": 15,
      "outputs": [
        {
          "output_type": "stream",
          "name": "stdout",
          "text": [
            "{2, 3}\n"
          ]
        }
      ]
    },
    {
      "cell_type": "code",
      "source": [
        "#Write a code to create a dictionary with the keys \"name\", \"age\", and \"city\", and print it.\n",
        "\n",
        "# Creating a dictionary\n",
        "person = {\n",
        "    \"name\": \"Alice\",\n",
        "    \"age\": 30,\n",
        "    \"city\": \"New York\"\n",
        "}\n",
        "\n",
        "# Printing the dictionary\n",
        "print(person)\n"
      ],
      "metadata": {
        "colab": {
          "base_uri": "https://localhost:8080/"
        },
        "id": "iJmHlCgIABFy",
        "outputId": "b7fcce88-fc51-4f60-92c6-677d9ca74972"
      },
      "execution_count": 16,
      "outputs": [
        {
          "output_type": "stream",
          "name": "stdout",
          "text": [
            "{'name': 'Alice', 'age': 30, 'city': 'New York'}\n"
          ]
        }
      ]
    },
    {
      "cell_type": "code",
      "source": [
        "#Write a code to add a new key-value pair \"country\": \"USA\" to the dictionary {'name': 'John', 'age': 25}.\n",
        "\n",
        "# Original dictionary\n",
        "person = {'name': 'John', 'age': 25}\n",
        "\n",
        "# Adding a new key-value pair\n",
        "person['country'] = 'USA'\n",
        "\n",
        "# Printing the updated dictionary\n",
        "print(person)"
      ],
      "metadata": {
        "colab": {
          "base_uri": "https://localhost:8080/"
        },
        "id": "9_EV5ozvALIm",
        "outputId": "c226feba-6d89-42d7-ecf4-4954c6754e3b"
      },
      "execution_count": 17,
      "outputs": [
        {
          "output_type": "stream",
          "name": "stdout",
          "text": [
            "{'name': 'John', 'age': 25, 'country': 'USA'}\n"
          ]
        }
      ]
    },
    {
      "cell_type": "code",
      "source": [
        "# Write a code to access the value associated with the key \"name\" in the dictionary {'name': 'Alice', 'age': 30}.\n",
        "\n",
        "# Dictionary\n",
        "person = {'name': 'Alice', 'age': 30}\n",
        "\n",
        "# Accessing the value associated with the key \"name\"\n",
        "name_value = person['name']\n",
        "\n",
        "# Printing the value\n",
        "print(name_value)"
      ],
      "metadata": {
        "colab": {
          "base_uri": "https://localhost:8080/"
        },
        "id": "tXakjguDAk1n",
        "outputId": "07fa9848-3069-4a19-d1a3-895b48099303"
      },
      "execution_count": 18,
      "outputs": [
        {
          "output_type": "stream",
          "name": "stdout",
          "text": [
            "Alice\n"
          ]
        }
      ]
    },
    {
      "cell_type": "code",
      "source": [
        "# Write a code to remove the key \"age\" from the dictionary {'name': 'Bob', 'age': 22, 'city': 'New York'}.\n",
        "\n",
        "person = {'name': 'Bob', 'age': 22, 'city': 'New York'}\n",
        "\n",
        "# Removing the key \"age\" from the dictionary\n",
        "del person['age']\n",
        "\n",
        "# Printing the updated dictionary\n",
        "print(person)"
      ],
      "metadata": {
        "colab": {
          "base_uri": "https://localhost:8080/"
        },
        "id": "K5vYSZetAvW4",
        "outputId": "15bae834-1c60-4263-fe39-67170c4be158"
      },
      "execution_count": 19,
      "outputs": [
        {
          "output_type": "stream",
          "name": "stdout",
          "text": [
            "{'name': 'Bob', 'city': 'New York'}\n"
          ]
        }
      ]
    },
    {
      "cell_type": "code",
      "source": [
        "# Write a code to check if the key \"city\" exists in the dictionary {'name': 'Alice', 'city': 'Paris'}.\n",
        "\n",
        "# Dictionary\n",
        "person = {'name': 'Alice', 'city': 'Paris'}\n",
        "\n",
        "# Checking if the key \"city\" exists in the dictionary\n",
        "key_exists = 'city' in person\n",
        "\n",
        "# Printing the result\n",
        "print(key_exists)"
      ],
      "metadata": {
        "colab": {
          "base_uri": "https://localhost:8080/"
        },
        "id": "xpsh_SsqA0iN",
        "outputId": "385f23e4-afb1-47c4-a4af-0252f6f26875"
      },
      "execution_count": 20,
      "outputs": [
        {
          "output_type": "stream",
          "name": "stdout",
          "text": [
            "True\n"
          ]
        }
      ]
    },
    {
      "cell_type": "code",
      "source": [
        "#Write a code to create a list, a tuple, and a dictionary, and print them all.\n",
        "# Creating a list\n",
        "my_list = [1, 2, 3, 4, 5]\n",
        "\n",
        "# Creating a tuple\n",
        "my_tuple = (10, 20, 30, 40, 50)\n",
        "\n",
        "# Creating a dictionary\n",
        "my_dict = {'name': 'John', 'age': 28, 'city': 'New York'}\n",
        "\n",
        "# Printing the list, tuple, and dictionary\n",
        "print(\"List:\", my_list)\n",
        "print(\"Tuple:\", my_tuple)\n",
        "print(\"Dictionary:\", my_dict)"
      ],
      "metadata": {
        "colab": {
          "base_uri": "https://localhost:8080/"
        },
        "id": "Mm3REY7bA8WB",
        "outputId": "f0c84a17-d40f-4863-ecbb-0f195558f358"
      },
      "execution_count": 21,
      "outputs": [
        {
          "output_type": "stream",
          "name": "stdout",
          "text": [
            "List: [1, 2, 3, 4, 5]\n",
            "Tuple: (10, 20, 30, 40, 50)\n",
            "Dictionary: {'name': 'John', 'age': 28, 'city': 'New York'}\n"
          ]
        }
      ]
    },
    {
      "cell_type": "code",
      "source": [
        "#Write a code to create a list of 5 random numbers between 1 and 100, sort it in ascending order, and print the result.(replaced)\n",
        "\n",
        "import random\n",
        "\n",
        "# Generating a list of 5 random numbers between 1 and 100\n",
        "random_numbers = [random.randint(1, 100) for _ in range(5)]\n",
        "\n",
        "# Sorting the list in ascending order\n",
        "random_numbers.sort()\n",
        "\n",
        "# Printing the sorted list\n",
        "print(random_numbers)"
      ],
      "metadata": {
        "colab": {
          "base_uri": "https://localhost:8080/"
        },
        "id": "sgnBhnzgBDIF",
        "outputId": "69398fe4-74d1-4dc3-9827-ff6869bc2011"
      },
      "execution_count": 22,
      "outputs": [
        {
          "output_type": "stream",
          "name": "stdout",
          "text": [
            "[21, 35, 60, 62, 71]\n"
          ]
        }
      ]
    },
    {
      "cell_type": "code",
      "source": [
        "#Write a code to create a list with strings and print the element at the third index.\n",
        "\n",
        "my_list = [\"apple\", \"banana\", \"cherry\", \"date\", \"elderberry\"]\n",
        "\n",
        "# Printing the element at the third index\n",
        "print(my_list[3])"
      ],
      "metadata": {
        "colab": {
          "base_uri": "https://localhost:8080/"
        },
        "id": "5bFgd4QbBZFD",
        "outputId": "9383f1e0-f143-4527-ee0e-a4b0046e87c0"
      },
      "execution_count": 23,
      "outputs": [
        {
          "output_type": "stream",
          "name": "stdout",
          "text": [
            "date\n"
          ]
        }
      ]
    },
    {
      "cell_type": "code",
      "source": [
        "# Write a code to combine two dictionaries into one and print the result.\n",
        "dict1 = {'name': 'Alice', 'age': 30}\n",
        "dict2 = {'city': 'New York', 'job': 'Engineer'}\n",
        "\n",
        "# Combining the two dictionaries\n",
        "combined_dict = {**dict1, **dict2}\n",
        "\n",
        "# Printing the combined dictionary\n",
        "print(combined_dict)"
      ],
      "metadata": {
        "colab": {
          "base_uri": "https://localhost:8080/"
        },
        "id": "NDdejiRoBe_w",
        "outputId": "a2c172dd-905b-4825-8856-3bee7e70754c"
      },
      "execution_count": 24,
      "outputs": [
        {
          "output_type": "stream",
          "name": "stdout",
          "text": [
            "{'name': 'Alice', 'age': 30, 'city': 'New York', 'job': 'Engineer'}\n"
          ]
        }
      ]
    },
    {
      "cell_type": "code",
      "source": [
        "#. Write a code to convert a list of strings into a set.\n",
        "\n",
        "string_list = [\"apple\", \"banana\", \"cherry\", \"apple\", \"banana\"]\n",
        "\n",
        "# Converting the list into a set\n",
        "string_set = set(string_list)\n",
        "\n",
        "# Printing the set\n",
        "print(string_set)"
      ],
      "metadata": {
        "colab": {
          "base_uri": "https://localhost:8080/"
        },
        "id": "ks2WcY7dBjwz",
        "outputId": "bc66314a-06d2-47e5-ae2a-0b1a9f2e2f56"
      },
      "execution_count": 25,
      "outputs": [
        {
          "output_type": "stream",
          "name": "stdout",
          "text": [
            "{'banana', 'cherry', 'apple'}\n"
          ]
        }
      ]
    },
    {
      "cell_type": "code",
      "source": [],
      "metadata": {
        "id": "zFJJEkw3Bo0s"
      },
      "execution_count": null,
      "outputs": []
    }
  ]
}